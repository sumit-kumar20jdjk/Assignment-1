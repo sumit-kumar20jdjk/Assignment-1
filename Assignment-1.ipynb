{
 "cells": [
  {
   "cell_type": "code",
   "execution_count": null,
   "id": "98ab7302-bc13-4509-9630-9e470c1cee92",
   "metadata": {},
   "outputs": [],
   "source": [
    "#Q1 ans"
   ]
  },
  {
   "cell_type": "code",
   "execution_count": null,
   "id": "57fe18ec-5f13-488b-ad1a-4c60b6bb73f5",
   "metadata": {},
   "outputs": [],
   "source": [
    "s=(\"home\",[1,2,3.14],8.14,(1,2,\"apple\"))  "
   ]
  },
  {
   "cell_type": "code",
   "execution_count": null,
   "id": "9d9a1728-3d4b-49d3-9c9f-dff5a85b8a90",
   "metadata": {},
   "outputs": [],
   "source": [
    "#Q2 ans"
   ]
  },
  {
   "cell_type": "code",
   "execution_count": 2,
   "id": "89fefeef-fcc7-4b87-b420-1925b41abfc0",
   "metadata": {},
   "outputs": [],
   "source": [
    "var1=''    "
   ]
  },
  {
   "cell_type": "code",
   "execution_count": 3,
   "id": "dd61f673-a582-4917-abd5-f389bc1897f5",
   "metadata": {},
   "outputs": [
    {
     "data": {
      "text/plain": [
       "str"
      ]
     },
     "execution_count": 3,
     "metadata": {},
     "output_type": "execute_result"
    }
   ],
   "source": [
    "type(var1)"
   ]
  },
  {
   "cell_type": "code",
   "execution_count": 4,
   "id": "fadbc953-cddc-49a2-8d40-51684cf57045",
   "metadata": {},
   "outputs": [],
   "source": [
    "\tvar2 ='[DS,ML,Python]'"
   ]
  },
  {
   "cell_type": "code",
   "execution_count": 5,
   "id": "912407ae-316e-4e5f-97dc-5d75f8b1a1bd",
   "metadata": {},
   "outputs": [
    {
     "data": {
      "text/plain": [
       "str"
      ]
     },
     "execution_count": 5,
     "metadata": {},
     "output_type": "execute_result"
    }
   ],
   "source": [
    "type(var2)"
   ]
  },
  {
   "cell_type": "code",
   "execution_count": 6,
   "id": "12e4eb63-20a2-42a6-8d95-c7b67afd1bf5",
   "metadata": {},
   "outputs": [],
   "source": [
    "var3=['DS','ML','python']"
   ]
  },
  {
   "cell_type": "code",
   "execution_count": 7,
   "id": "4af7ae20-dcec-4d3a-919d-c772ad70af72",
   "metadata": {},
   "outputs": [
    {
     "data": {
      "text/plain": [
       "list"
      ]
     },
     "execution_count": 7,
     "metadata": {},
     "output_type": "execute_result"
    }
   ],
   "source": [
    "type(var3)"
   ]
  },
  {
   "cell_type": "code",
   "execution_count": 8,
   "id": "ad914b79-fc5b-497f-898a-93a8a7b05124",
   "metadata": {},
   "outputs": [],
   "source": [
    "var4=1"
   ]
  },
  {
   "cell_type": "code",
   "execution_count": 9,
   "id": "4e8eabd7-1016-40a6-84ee-9a1e0aac1890",
   "metadata": {},
   "outputs": [
    {
     "data": {
      "text/plain": [
       "int"
      ]
     },
     "execution_count": 9,
     "metadata": {},
     "output_type": "execute_result"
    }
   ],
   "source": [
    "type(var4)"
   ]
  },
  {
   "cell_type": "code",
   "execution_count": null,
   "id": "fe73cbd8-9038-4ba5-b4cb-40d9a8adc2ea",
   "metadata": {},
   "outputs": [],
   "source": [
    "#Q3-ANS"
   ]
  },
  {
   "cell_type": "code",
   "execution_count": 2,
   "id": "5d3a5827-0965-49ec-a9f8-946d01d59f7b",
   "metadata": {},
   "outputs": [
    {
     "data": {
      "text/plain": [
       "2.5"
      ]
     },
     "execution_count": 2,
     "metadata": {},
     "output_type": "execute_result"
    }
   ],
   "source": [
    "5/2  # division( /) operatotr used for division   #Q2-ANS"
   ]
  },
  {
   "cell_type": "code",
   "execution_count": 3,
   "id": "385c0861-256a-4853-b1cb-a15b7d3885d8",
   "metadata": {},
   "outputs": [
    {
     "data": {
      "text/plain": [
       "4"
      ]
     },
     "execution_count": 3,
     "metadata": {},
     "output_type": "execute_result"
    }
   ],
   "source": [
    "24%5   # modulus (%) operator used for getting remainder  "
   ]
  },
  {
   "cell_type": "code",
   "execution_count": 4,
   "id": "b22796a6-ec06-44af-9c2f-6519d3b023d9",
   "metadata": {},
   "outputs": [
    {
     "data": {
      "text/plain": [
       "1"
      ]
     },
     "execution_count": 4,
     "metadata": {},
     "output_type": "execute_result"
    }
   ],
   "source": [
    "7//5   # floor division(//) result is quotient and digit after the decimal point is removed."
   ]
  },
  {
   "cell_type": "code",
   "execution_count": 5,
   "id": "e369ac77-5d91-4137-bd40-15e815685d73",
   "metadata": {},
   "outputs": [
    {
     "data": {
      "text/plain": [
       "16"
      ]
     },
     "execution_count": 5,
     "metadata": {},
     "output_type": "execute_result"
    }
   ],
   "source": [
    "4**2 # exopnential operator(**) operator work as exponential"
   ]
  },
  {
   "cell_type": "code",
   "execution_count": null,
   "id": "184e539a-1a03-4db2-bff0-60cf8433d4ea",
   "metadata": {},
   "outputs": [],
   "source": [
    "Q4- Ans"
   ]
  },
  {
   "cell_type": "code",
   "execution_count": 6,
   "id": "7b183766-6a4d-46f1-bf12-ba2d8e94fccd",
   "metadata": {},
   "outputs": [],
   "source": [
    "l=[1,3,2,4,'sita',8.34,'rita','gita',8.98,7.98] # list of length 10 with its elements and data types "
   ]
  },
  {
   "cell_type": "code",
   "execution_count": null,
   "id": "173aa5de-4806-47a0-a9d4-d19fe01b3f61",
   "metadata": {},
   "outputs": [
    {
     "name": "stdout",
     "output_type": "stream",
     "text": [
      "1\n",
      "<class 'int'>\n",
      "3\n",
      "<class 'int'>\n",
      "2\n",
      "<class 'int'>\n",
      "4\n",
      "<class 'int'>\n",
      "sita\n",
      "<class 'str'>\n",
      "8.34\n",
      "<class 'float'>\n",
      "rita\n",
      "<class 'str'>\n",
      "gita\n",
      "<class 'str'>\n",
      "8.98\n",
      "<class 'float'>\n",
      "7.98\n",
      "<class 'float'>\n"
     ]
    }
   ],
   "source": [
    "for i in l :           #Q4-ANS\n",
    "    print(i)\n",
    "    print(type(i))"
   ]
  },
  {
   "cell_type": "code",
   "execution_count": null,
   "id": "3d8c297a-1cce-48ae-99d1-41d3376c2a99",
   "metadata": {},
   "outputs": [],
   "source": [
    " #Q5ANS"
   ]
  },
  {
   "cell_type": "code",
   "execution_count": null,
   "id": "7afe519b-8618-4896-8c8d-f9e311e5b0e6",
   "metadata": {},
   "outputs": [],
   "source": [
    "A = int(input(\"Enter the number A: \"))       \n",
    "B = int(input(\"Enter the number B: \"))             \n",
    "\n",
    "count = 0\n",
    "                                                     \n",
    "while A % B == 0:\n",
    "    A = A / B\n",
    "    count += 1\n",
    "\n",
    "print(\"Number A is divisible by number B\", count, \"times.\")\n"
   ]
  },
  {
   "cell_type": "code",
   "execution_count": null,
   "id": "d745d218-e26f-4bf0-9770-ee90b0f6143e",
   "metadata": {},
   "outputs": [],
   "source": [
    " #Q6-ANS"
   ]
  },
  {
   "cell_type": "code",
   "execution_count": 9,
   "id": "4b711c94-d026-4782-96f0-6bf8311015b6",
   "metadata": {},
   "outputs": [
    {
     "name": "stdout",
     "output_type": "stream",
     "text": [
      "i is divisible by 3\n",
      "i is divisible by 3\n",
      "i is divisible by 3\n",
      "i is divisible by 3\n",
      "i is divisible by 3\n",
      "i is divisible by 3\n",
      "i is divisible by 3\n",
      "i is divisible by 3\n",
      "i is not divisible by 3\n"
     ]
    }
   ],
   "source": [
    "l=[1,2,3,4,5,6,7,8,9,10,11,12,13,14,15,16,17,18,19,20,21,22,23,24,25]         \n",
    "for i in l:\n",
    "    if i%3==0 :\n",
    "        print(\"i is divisible by 3\")\n",
    "else :\n",
    "    print(\"i is not divisible by 3\") "
   ]
  },
  {
   "cell_type": "code",
   "execution_count": null,
   "id": "0483e109-d90e-4a47-bb06-9d67e64f7233",
   "metadata": {},
   "outputs": [],
   "source": [
    "#Q7ans"
   ]
  },
  {
   "cell_type": "code",
   "execution_count": 10,
   "id": "78a02d65-105f-4c67-904b-5920877c0176",
   "metadata": {},
   "outputs": [],
   "source": [
    "# mutable-the term mutable in python refers to an object capacity to modify its value. "
   ]
  },
  {
   "cell_type": "code",
   "execution_count": 11,
   "id": "01fc5d32-06f3-4e47-b50f-88ad02b15974",
   "metadata": {},
   "outputs": [],
   "source": [
    "l=[69,70,'gt','mt'] # example of mutable"
   ]
  },
  {
   "cell_type": "code",
   "execution_count": 12,
   "id": "09e73356-48b7-42c6-adeb-5d5b3cd99399",
   "metadata": {},
   "outputs": [
    {
     "data": {
      "text/plain": [
       "[69, 70, 'gt', 'mt']"
      ]
     },
     "execution_count": 12,
     "metadata": {},
     "output_type": "execute_result"
    }
   ],
   "source": [
    "l"
   ]
  },
  {
   "cell_type": "code",
   "execution_count": null,
   "id": "7d61c782-d2a6-43c9-86d9-20e132ef8efd",
   "metadata": {},
   "outputs": [],
   "source": [
    "# immutable- immutable refers that we can't change its value over time."
   ]
  },
  {
   "cell_type": "code",
   "execution_count": 13,
   "id": "e231ae61-c9c3-4f9c-b905-6c9a5aed3a9e",
   "metadata": {},
   "outputs": [],
   "source": [
    "x='sumit' # example of immutable"
   ]
  },
  {
   "cell_type": "code",
   "execution_count": 14,
   "id": "ce6acbb1-a942-455c-96c8-db278d12e6a3",
   "metadata": {},
   "outputs": [
    {
     "ename": "TypeError",
     "evalue": "'str' object does not support item assignment",
     "output_type": "error",
     "traceback": [
      "\u001b[0;31m---------------------------------------------------------------------------\u001b[0m",
      "\u001b[0;31mTypeError\u001b[0m                                 Traceback (most recent call last)",
      "Cell \u001b[0;32mIn[14], line 1\u001b[0m\n\u001b[0;32m----> 1\u001b[0m \u001b[43mx\u001b[49m\u001b[43m[\u001b[49m\u001b[38;5;241;43m1\u001b[39;49m\u001b[43m]\u001b[49m\u001b[38;5;241m=\u001b[39m\u001b[38;5;124m'\u001b[39m\u001b[38;5;124mk\u001b[39m\u001b[38;5;124m'\u001b[39m\n",
      "\u001b[0;31mTypeError\u001b[0m: 'str' object does not support item assignment"
     ]
    }
   ],
   "source": [
    "x[1]='k'"
   ]
  },
  {
   "cell_type": "code",
   "execution_count": null,
   "id": "3225ed91-97c5-4185-93be-3ecc49b17c34",
   "metadata": {},
   "outputs": [],
   "source": []
  }
 ],
 "metadata": {
  "kernelspec": {
   "display_name": "Python 3 (ipykernel)",
   "language": "python",
   "name": "python3"
  },
  "language_info": {
   "codemirror_mode": {
    "name": "ipython",
    "version": 3
   },
   "file_extension": ".py",
   "mimetype": "text/x-python",
   "name": "python",
   "nbconvert_exporter": "python",
   "pygments_lexer": "ipython3",
   "version": "3.10.8"
  }
 },
 "nbformat": 4,
 "nbformat_minor": 5
}
